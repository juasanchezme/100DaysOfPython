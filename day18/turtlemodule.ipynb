{
 "cells": [
  {
   "cell_type": "markdown",
   "metadata": {},
   "source": [
    "# Turtle graphics"
   ]
  },
  {
   "cell_type": "code",
   "execution_count": 7,
   "metadata": {},
   "outputs": [],
   "source": [
    "# Drawing some polygons\n",
    "\n",
    "from turtle import Turtle, Screen\n",
    "import random\n",
    "timmy = Turtle()\n",
    "timmy.shape(\"turtle\")\n",
    "\n",
    "screen = Screen()\n",
    "screen.colormode(255)\n",
    "\n",
    "def ranColor():\n",
    "    a,b,c = random.randint(0, 255), random.randint(0, 255), random.randint(0, 255)\n",
    "    return a,b,c\n",
    "\n",
    "#print(ranColor())\n",
    "for i in range(4, 11):\n",
    "    angle = 360 / i\n",
    "    timmy.pencolor(ranColor())\n",
    "\n",
    "    for _ in range(i):\n",
    "        timmy.forward(100)\n",
    "        timmy.right(angle)\n",
    "\n",
    "    \n",
    "\n",
    "screen.exitonclick()"
   ]
  }
 ],
 "metadata": {
  "kernelspec": {
   "display_name": "Python 3",
   "language": "python",
   "name": "python3"
  },
  "language_info": {
   "codemirror_mode": {
    "name": "ipython",
    "version": 3
   },
   "file_extension": ".py",
   "mimetype": "text/x-python",
   "name": "python",
   "nbconvert_exporter": "python",
   "pygments_lexer": "ipython3",
   "version": "3.12.6"
  }
 },
 "nbformat": 4,
 "nbformat_minor": 2
}
