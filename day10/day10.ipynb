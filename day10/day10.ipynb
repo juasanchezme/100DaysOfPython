{
 "cells": [
  {
   "cell_type": "markdown",
   "metadata": {},
   "source": [
    "# Return, using Functions"
   ]
  },
  {
   "cell_type": "markdown",
   "metadata": {},
   "source": [
    "Leap Year\n",
    "💪 This is a difficult challenge! 💪 \n",
    "\n",
    "Write a program that returns True or False whether if a given year is a leap year.\n",
    "\n",
    "A normal year has 365 days, leap years have 366, with an extra day in February. The reason why we have leap years is really fascinating, this video does it more justice\n",
    "\n",
    "\n",
    "\n",
    "This is how you work out whether if a particular year is a leap year. \n",
    "\n",
    "- on every year that is divisible by 4 with no remainder\n",
    "\n",
    "- except every year that is evenly divisible by 100 with no remainder \n",
    "\n",
    "- unless the year is also divisible by 400 with no remainder   \n",
    "\n"
   ]
  },
  {
   "cell_type": "code",
   "execution_count": null,
   "metadata": {},
   "outputs": [
    {
     "data": {
      "text/plain": [
       "False"
      ]
     },
     "execution_count": 2,
     "metadata": {},
     "output_type": "execute_result"
    }
   ],
   "source": [
    "def is_leap_year(year):\n",
    "    if year % 4 == 0:\n",
    "        if year % 100 == 0:\n",
    "            if year % 400 == 0:\n",
    "                return True\n",
    "            return False\n",
    "        return True\n",
    "    return False\n",
    "    \n",
    "is_leap_year(2025)"
   ]
  },
  {
   "cell_type": "markdown",
   "metadata": {},
   "source": [
    "## Calculadora"
   ]
  },
  {
   "cell_type": "code",
   "execution_count": null,
   "metadata": {},
   "outputs": [],
   "source": [
    "#Calculator\n",
    "def add(n1, n2):\n",
    "  return n1 + n2\n",
    "\n",
    "def subtract(n1, n2):\n",
    "  return n1 - n2\n",
    "\n",
    "def multiply(n1, n2):\n",
    "  return n1 * n2\n",
    "\n",
    "def divide(n1, n2):\n",
    "  return n1 / n2\n",
    "\n",
    "operations = {\n",
    "  \"+\": add,\n",
    "  \"-\": subtract,\n",
    "  \"*\": multiply,\n",
    "  \"/\": divide\n",
    "}\n",
    "\n",
    "num1 = int(input(\"What's the first number?: \"))\n",
    "for symbol in operations:\n",
    "  print(symbol)\n",
    "\n",
    "#Here we select \"+\"\n",
    "operation_symbol = input(\"Pick an operation: \")\n",
    "num2 = int(input(\"What's the next number?: \"))\n",
    "calculation_function = operations[operation_symbol]\n",
    "first_answer = calculation_function(num1, num2)\n",
    "\n",
    "print(f\"{num1} {operation_symbol} {num2} = {first_answer}\")\n",
    "\n",
    "#Here we select \"*\" which overides the \"+\" we selected on line 26.\n",
    "operation_symbol = input(\"Pick an operation: \")\n",
    "num3 = int(input(\"What's the next number?: \"))\n",
    "\n",
    "#Here the calculation_function selected will be the multiply() function\n",
    "calculation_function = operations[operation_symbol]\n",
    "\n",
    "\n",
    "second_answer = calculation_function(first_answer, num3)\n",
    "\n",
    "print(f\"{first_answer} {operation_symbol} {num3} = {second_answer}\")"
   ]
  },
  {
   "cell_type": "markdown",
   "metadata": {},
   "source": [
    "## Docstrings\n",
    "Los docstrings son cadenas de texto que se utilizan para documentar el código en Python. Se escriben entre triples comillas dobles (\"\"\") y se colocan justo después de la definición de una función, clase o módulo."
   ]
  },
  {
   "cell_type": "code",
   "execution_count": 3,
   "metadata": {},
   "outputs": [
    {
     "name": "stdout",
     "output_type": "stream",
     "text": [
      "Angela Yu\n",
      "9\n"
     ]
    }
   ],
   "source": [
    "def format_name(f_name, l_name):\n",
    "  \"\"\"\n",
    "  Toma un nombre y apellido y los formatea para devolver la versión en mayúsculas del nombre.\n",
    "  \"\"\"\n",
    "  formated_f_name = f_name.title()\n",
    "  formated_l_name = l_name.title()\n",
    "  return f\"{formated_f_name} {formated_l_name}\"\n",
    "\n",
    "formatted_name = format_name(f_name=\"AnGeLa\", l_name=\"YU\")\n",
    "\n",
    "length = len(formatted_name)\n",
    "\n",
    "print(formatted_name)\n",
    "print(length)"
   ]
  }
 ],
 "metadata": {
  "kernelspec": {
   "display_name": "base",
   "language": "python",
   "name": "python3"
  },
  "language_info": {
   "codemirror_mode": {
    "name": "ipython",
    "version": 3
   },
   "file_extension": ".py",
   "mimetype": "text/x-python",
   "name": "python",
   "nbconvert_exporter": "python",
   "pygments_lexer": "ipython3",
   "version": "3.11.5"
  }
 },
 "nbformat": 4,
 "nbformat_minor": 2
}
