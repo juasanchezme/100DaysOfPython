{
 "cells": [
  {
   "cell_type": "markdown",
   "metadata": {},
   "source": [
    "# General Debugging Strategies\n",
    "\n",
    "## Understand the Problem\n",
    "\n",
    "Read the error message carefully.\n",
    "Reproduce the issue consistently.\n",
    "Use Print Statements or Logging\n",
    "\n",
    "Print variables at key points to track their values.\n",
    "Check for Syntax Errors\n",
    "\n",
    "A missing semicolon, extra parentheses, or incorrect indentation can cause issues.\n",
    "\n",
    "## Divide and Conquer\n",
    "\n",
    "Break your code into smaller parts and test each one separately.\n",
    "Use a binary search approach: comment out sections until you isolate the issue.\n",
    "Check Assumptions\n",
    "\n",
    "Are you sure the function receives the expected inputs?\n",
    "Print type and value of variables (typeof in JavaScript, type() in Python).\n",
    "Use Version Control (Git)\n",
    "\n",
    "Commit frequently so you can roll back to a working state if needed.\n",
    "Use git bisect to find where the bug was introduced."
   ]
  }
 ],
 "metadata": {
  "language_info": {
   "name": "python"
  }
 },
 "nbformat": 4,
 "nbformat_minor": 2
}
