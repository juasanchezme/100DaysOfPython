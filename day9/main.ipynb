{
 "cells": [
  {
   "cell_type": "markdown",
   "metadata": {},
   "source": [
    "Diccionarios"
   ]
  },
  {
   "cell_type": "code",
   "execution_count": 3,
   "metadata": {},
   "outputs": [
    {
     "name": "stdout",
     "output_type": "stream",
     "text": [
      "{'Harry': 'Exceeds Expectations', 'Ron': 'Acceptable', 'Hermione': 'Outstanding', 'Draco': 'Acceptable', 'Neville': 'Fail'}\n"
     ]
    }
   ],
   "source": [
    "student_scores = {\n",
    "    'Harry': 88,\n",
    "    'Ron': 78,\n",
    "    'Hermione': 95,\n",
    "    'Draco': 75,\n",
    "    'Neville': 60\n",
    "}\n",
    "\n",
    "def score(number):\n",
    "    if number >= 91:\n",
    "        return \"Outstanding\"\n",
    "    elif number >= 81:\n",
    "        return \"Exceeds Expectations\"\n",
    "    elif number >= 71:\n",
    "        return \"Acceptable\"\n",
    "    \n",
    "    else:\n",
    "    \n",
    "        return \"Fail\"\n",
    "        \n",
    "    \n",
    "student_grades = { }\n",
    "\n",
    "for student in student_scores:\n",
    "    student_grades[student] = score(student_scores[student])\n",
    "print(student_grades)"
   ]
  },
  {
   "cell_type": "markdown",
   "metadata": {},
   "source": [
    "Nesting"
   ]
  },
  {
   "cell_type": "code",
   "execution_count": 5,
   "metadata": {},
   "outputs": [
    {
     "data": {
      "text/plain": [
       "'Steak'"
      ]
     },
     "execution_count": 5,
     "metadata": {},
     "output_type": "execute_result"
    }
   ],
   "source": [
    "order = {\n",
    "    \"starter\": {1: \"Salad\", 2: \"Soup\"},\n",
    "    \"main\": {1: [\"Burger\", \"Fries\"], 2: [\"Steak\"]},\n",
    "    \"dessert\": {1: [\"Ice Cream\"], 2: []},\n",
    "}\n",
    "\n",
    "order[\"main\"][2][0]"
   ]
  }
 ],
 "metadata": {
  "kernelspec": {
   "display_name": "base",
   "language": "python",
   "name": "python3"
  },
  "language_info": {
   "codemirror_mode": {
    "name": "ipython",
    "version": 3
   },
   "file_extension": ".py",
   "mimetype": "text/x-python",
   "name": "python",
   "nbconvert_exporter": "python",
   "pygments_lexer": "ipython3",
   "version": "3.11.5"
  }
 },
 "nbformat": 4,
 "nbformat_minor": 2
}
