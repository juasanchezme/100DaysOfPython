{
 "cells": [
  {
   "cell_type": "markdown",
   "metadata": {},
   "source": [
    "Diccionarios"
   ]
  },
  {
   "cell_type": "code",
   "execution_count": 3,
   "metadata": {},
   "outputs": [
    {
     "name": "stdout",
     "output_type": "stream",
     "text": [
      "{'Harry': 'Exceeds Expectations', 'Ron': 'Acceptable', 'Hermione': 'Outstanding', 'Draco': 'Acceptable', 'Neville': 'Fail'}\n"
     ]
    }
   ],
   "source": [
    "student_scores = {\n",
    "    'Harry': 88,\n",
    "    'Ron': 78,\n",
    "    'Hermione': 95,\n",
    "    'Draco': 75,\n",
    "    'Neville': 60\n",
    "}\n",
    "\n",
    "def score(number):\n",
    "    if number >= 91:\n",
    "        return \"Outstanding\"\n",
    "    elif number >= 81:\n",
    "        return \"Exceeds Expectations\"\n",
    "    elif number >= 71:\n",
    "        return \"Acceptable\"\n",
    "    \n",
    "    else:\n",
    "    \n",
    "        return \"Fail\"\n",
    "        \n",
    "    \n",
    "student_grades = { }\n",
    "\n",
    "for student in student_scores:\n",
    "    student_grades[student] = score(student_scores[student])\n",
    "print(student_grades)"
   ]
  },
  {
   "cell_type": "markdown",
   "metadata": {},
   "source": [
    "Nesting"
   ]
  },
  {
   "cell_type": "code",
   "execution_count": 5,
   "metadata": {},
   "outputs": [
    {
     "data": {
      "text/plain": [
       "'Steak'"
      ]
     },
     "execution_count": 5,
     "metadata": {},
     "output_type": "execute_result"
    }
   ],
   "source": [
    "order = {\n",
    "    \"starter\": {1: \"Salad\", 2: \"Soup\"},\n",
    "    \"main\": {1: [\"Burger\", \"Fries\"], 2: [\"Steak\"]},\n",
    "    \"dessert\": {1: [\"Ice Cream\"], 2: []},\n",
    "}\n",
    "\n",
    "order[\"main\"][2][0]"
   ]
  },
  {
   "cell_type": "markdown",
   "metadata": {},
   "source": [
    "Calculadora"
   ]
  },
  {
   "cell_type": "code",
   "execution_count": 8,
   "metadata": {},
   "outputs": [
    {
     "name": "stdout",
     "output_type": "stream",
     "text": [
      "+\n",
      "-\n",
      "*\n",
      "/\n",
      "1 * 2 = 2\n",
      "2 - 1 = 1\n"
     ]
    }
   ],
   "source": [
    "#Calculator\n",
    "def add(n1, n2):\n",
    "  return n1 + n2\n",
    "\n",
    "def subtract(n1, n2):\n",
    "  return n1 - n2\n",
    "\n",
    "def multiply(n1, n2):\n",
    "  return n1 * n2\n",
    "\n",
    "def divide(n1, n2):\n",
    "  return n1 / n2\n",
    "\n",
    "operations = {\n",
    "  \"+\": add,\n",
    "  \"-\": subtract,\n",
    "  \"*\": multiply,\n",
    "  \"/\": divide\n",
    "}\n",
    "\n",
    "num1 = int(input(\"What's the first number?: \"))\n",
    "for symbol in operations:\n",
    "  print(symbol)\n",
    "\n",
    "#Here we select \"+\"\n",
    "operation_symbol = input(\"Pick an operation: \")\n",
    "num2 = int(input(\"What's the next number?: \"))\n",
    "calculation_function = operations[operation_symbol]\n",
    "first_answer = calculation_function(num1, num2)\n",
    "\n",
    "print(f\"{num1} {operation_symbol} {num2} = {first_answer}\")\n",
    "\n",
    "#Here we select \"*\" which overides the \"+\" we selected on line 26.\n",
    "operation_symbol = input(\"Pick an operation: \")\n",
    "num3 = int(input(\"What's the next number?: \"))\n",
    "\n",
    "#Here the calculation_function selected will be the multiply() function\n",
    "calculation_function = operations[operation_symbol]\n",
    "\n",
    "\n",
    "second_answer = calculation_function(first_answer, num3)\n",
    "\n",
    "print(f\"{first_answer} {operation_symbol} {num3} = {second_answer}\")"
   ]
  }
 ],
 "metadata": {
  "kernelspec": {
   "display_name": "base",
   "language": "python",
   "name": "python3"
  },
  "language_info": {
   "codemirror_mode": {
    "name": "ipython",
    "version": 3
   },
   "file_extension": ".py",
   "mimetype": "text/x-python",
   "name": "python",
   "nbconvert_exporter": "python",
   "pygments_lexer": "ipython3",
   "version": "3.11.5"
  }
 },
 "nbformat": 4,
 "nbformat_minor": 2
}
