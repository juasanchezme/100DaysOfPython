{
 "cells": [
  {
   "cell_type": "markdown",
   "metadata": {},
   "source": [
    "# Scope\n",
    "\n",
    "It's a terrible idea to call de local and global scope with the same name "
   ]
  },
  {
   "cell_type": "code",
   "execution_count": 1,
   "metadata": {},
   "outputs": [
    {
     "name": "stdout",
     "output_type": "stream",
     "text": [
      "enemies inside function: 2\n",
      "enemies inside_inside function: 11\n",
      "enemies outside function: 1\n"
     ]
    }
   ],
   "source": [
    "enemies = 1\n",
    "\n",
    "def increase_enemies():\n",
    "  enemies = 2\n",
    "  print(f\"enemies inside function: {enemies}\")\n",
    "  def inside_inside():\n",
    "    enemies=10\n",
    "    enemies+=1\n",
    "    print(f\"enemies inside_inside function: {enemies}\")\n",
    "  inside_inside()\n",
    "\n",
    "increase_enemies()\n",
    "print(f\"enemies outside function: {enemies}\")"
   ]
  },
  {
   "cell_type": "markdown",
   "metadata": {},
   "source": [
    "Se puede modificar usando ***global*** pero no es una buena practica"
   ]
  },
  {
   "cell_type": "code",
   "execution_count": 8,
   "metadata": {},
   "outputs": [
    {
     "name": "stdout",
     "output_type": "stream",
     "text": [
      "enemies inside function: 2\n",
      "enemies outside function: 2\n"
     ]
    }
   ],
   "source": [
    "enemies = 1\n",
    "\n",
    "def increase_enemies():\n",
    "  global enemies \n",
    "  enemies = 2\n",
    "  print(f\"enemies inside function: {enemies}\")\n",
    "  \n",
    "\n",
    "increase_enemies()\n",
    "print(f\"enemies outside function: {enemies}\")"
   ]
  },
  {
   "cell_type": "markdown",
   "metadata": {},
   "source": [
    "Una manera de modificar una variable global con buenas practicas, de la forma correcta es usando el return de la función"
   ]
  },
  {
   "cell_type": "code",
   "execution_count": 15,
   "metadata": {},
   "outputs": [
    {
     "name": "stdout",
     "output_type": "stream",
     "text": [
      "enemies outside function: 2\n"
     ]
    }
   ],
   "source": [
    "enemies = 1\n",
    "\n",
    "def increase_enemies(enemy):\n",
    "    return enemy + 1\n",
    "  \n",
    "\n",
    "enemies = increase_enemies(enemies)\n",
    "print(f\"enemies outside function: {enemies}\")"
   ]
  },
  {
   "cell_type": "markdown",
   "metadata": {},
   "source": [
    "Usamos mayusculas cuando queremos dar a entender que la variable es inmutable"
   ]
  },
  {
   "cell_type": "markdown",
   "metadata": {},
   "source": [
    "#Global Constants\n",
    "\n",
    "PI = 3.14159\n",
    "URL = \"https://www.google.com\"\n",
    "TWITTER_HANDLE = \"@yu_angela\""
   ]
  },
  {
   "cell_type": "markdown",
   "metadata": {},
   "source": [
    "## Challenge: Number guessing game"
   ]
  },
  {
   "cell_type": "code",
   "execution_count": 34,
   "metadata": {},
   "outputs": [
    {
     "name": "stdout",
     "output_type": "stream",
     "text": [
      "Welcome to guess number game\n",
      " I'm thinking a number between 1 and 100, can you guess it?\n",
      "\"   \n",
      "\n",
      "     ██ ██    ██  █████  ███    ██          ██  ██████  ███████ ███████ ███████      ██████  ██    ██ ███████ ███████ ███████      ██████   █████  ███    ███ ███████ \n",
      "     ██ ██    ██ ██   ██ ████   ██          ██ ██    ██ ██      ██      ██          ██       ██    ██ ██      ██      ██          ██       ██   ██ ████  ████ ██      \n",
      "     ██ ██    ██ ███████ ██ ██  ██          ██ ██    ██ ███████ █████   ███████     ██   ███ ██    ██ █████   ███████ ███████     ██   ███ ███████ ██ ████ ██ █████   \n",
      "██   ██ ██    ██ ██   ██ ██  ██ ██     ██   ██ ██    ██      ██ ██           ██     ██    ██ ██    ██ ██           ██      ██     ██    ██ ██   ██ ██  ██  ██ ██      \n",
      " █████   ██████  ██   ██ ██   ████      █████   ██████  ███████ ███████ ███████      ██████   ██████  ███████ ███████ ███████      ██████  ██   ██ ██      ██ ███████ \"  \n",
      "88\n",
      "It's a lower number\n",
      "It's a lower number\n",
      "tienes 9 intentos restantes\n",
      "It's a higher number\n",
      "It's a higher number\n",
      "tienes 8 intentos restantes\n",
      "It's a higher number\n",
      "It's a higher number\n",
      "tienes 7 intentos restantes\n",
      "you win\n"
     ]
    }
   ],
   "source": [
    "from random import randint\n",
    "from art import logo\n",
    "print(\"Welcome to guess number game\")\n",
    "print(\" I'm thinking a number between 1 and 100, can you guess it?\")\n",
    "print(logo)\n",
    "userLevel = input(\"chose a game level, easy (10 attemps) or hard (5 attemps)\").lower()\n",
    "\n",
    "def gameLevel(level):\n",
    "    if level == \"easy\":\n",
    "        return 10\n",
    "    else:\n",
    "        return 5\n",
    "\n",
    "\n",
    "def randomNumber():\n",
    "    number = randint(1, 100)\n",
    "    return number\n",
    "\n",
    "realNumber = randomNumber()\n",
    "\n",
    "attemps= gameLevel(userLevel)\n",
    "\n",
    "def puntuacion(guess):\n",
    "    \n",
    "    if guess == realNumber:\n",
    "        \n",
    "        print(\"you win\")\n",
    "        return 0\n",
    "        \n",
    "    elif guess < realNumber:\n",
    "        print(\"It's a higher number\")\n",
    "                  \n",
    "    else:\n",
    "        print(\"It's a lower number\")\n",
    "        \n",
    "        \n",
    "    return -1\n",
    "    \n",
    "print(realNumber)\n",
    "\n",
    "while attemps != 0:\n",
    "    userGuess = int(input())\n",
    "\n",
    "    if puntuacion(userGuess) == 0:\n",
    "        break\n",
    "\n",
    "    attemps += puntuacion(userGuess)\n",
    "    print(f\"tienes {attemps} intentos restantes\")\n"
   ]
  }
 ],
 "metadata": {
  "kernelspec": {
   "display_name": "Python 3",
   "language": "python",
   "name": "python3"
  },
  "language_info": {
   "codemirror_mode": {
    "name": "ipython",
    "version": 3
   },
   "file_extension": ".py",
   "mimetype": "text/x-python",
   "name": "python",
   "nbconvert_exporter": "python",
   "pygments_lexer": "ipython3",
   "version": "3.12.6"
  }
 },
 "nbformat": 4,
 "nbformat_minor": 2
}
